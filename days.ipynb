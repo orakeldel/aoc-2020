{
 "metadata": {
  "language_info": {
   "codemirror_mode": {
    "name": "ipython",
    "version": 3
   },
   "file_extension": ".py",
   "mimetype": "text/x-python",
   "name": "python",
   "nbconvert_exporter": "python",
   "pygments_lexer": "ipython3",
   "version": "3.8.6-final"
  },
  "orig_nbformat": 2,
  "kernelspec": {
   "name": "python3",
   "display_name": "Python 3"
  }
 },
 "nbformat": 4,
 "nbformat_minor": 2,
 "cells": [
  {
   "cell_type": "code",
   "execution_count": 1,
   "metadata": {},
   "outputs": [],
   "source": [
    "import numpy as np\n",
    "import copy"
   ]
  },
  {
   "cell_type": "code",
   "execution_count": 3,
   "metadata": {},
   "outputs": [
    {
     "output_type": "stream",
     "name": "stdout",
     "text": [
      "1700\n"
     ]
    }
   ],
   "source": [
    "# Day 10\n",
    "with open(\"input10\", \"r\") as fp:\n",
    "    lines = fp.readlines()\n",
    "numbers = []\n",
    "for line in lines:\n",
    "    numbers.append(int(line))\n",
    "numbers.sort()\n",
    "numbers.append(numbers[-1]+3)\n",
    "numbers.insert(0, 0)\n",
    "diffs = np.diff(numbers)\n",
    "print(len(diffs[diffs==1]) * len(diffs[diffs==3]))\n",
    "# diff only consists of 1s and 3s. Every 3 \"resets\" the sequence (every sequence has to go through here)\n",
    "# the number of 1s between 3s indicates how many different permutation between those two 3s are possible\n",
    "# (e.g.) 3ABC3 -> 4 ways 3ABC3, 3AB3, 3AC3, 3BC3 (not that we already need one step to get to 3, so we basically can skip one 1)\n",
    "num_1s = [len(n) -1 for n in np.split([3] + diffs.tolist(), np.where(diffs==3)[0]+1) if len(n) > 1]\n",
    "mult = [0,1,2,4,7]\n",
    "multipliers = [mult[i] for i in num_1s]\n",
    "print(np.multiply.reduce(multipliers))"
   ]
  },
  {
   "cell_type": "code",
   "execution_count": 9,
   "metadata": {},
   "outputs": [
    {
     "output_type": "stream",
     "name": "stdout",
     "text": [
      "23278925\n",
      "4011064\n"
     ]
    }
   ],
   "source": [
    "# Day 9\n",
    "with open(\"input9\", \"r\") as fp:\n",
    "    lines = fp.readlines()\n",
    "numbers = []\n",
    "for line in lines:\n",
    "    numbers.append(int(line))\n",
    "\n",
    "def check(number, number_list):\n",
    "    for n1 in number_list:\n",
    "        for n2 in number_list:\n",
    "            if n1+n2 == number:\n",
    "                return True\n",
    "    return False\n",
    "\n",
    "for i in range(25,len(numbers)):\n",
    "    if not check(numbers[i], numbers[i-25:i]):\n",
    "        print(numbers[i])\n",
    "        invalid = numbers[i]\n",
    "        break\n",
    "# brute force :(\n",
    "start = 0\n",
    "end = 1\n",
    "while True:\n",
    "    sum_ = np.sum(numbers[start:end]) \n",
    "    if sum_ == invalid:\n",
    "        print(np.max(numbers[start:end])+np.min(numbers[start:end]))\n",
    "        break\n",
    "    if sum_ > invalid:\n",
    "        start += 1\n",
    "        end = start + 1\n",
    "    else:\n",
    "        end += 1"
   ]
  },
  {
   "cell_type": "code",
   "execution_count": 5,
   "metadata": {},
   "outputs": [],
   "source": [
    "# Day 8\n",
    "with open(\"input8\", \"r\") as fp:\n",
    "    lines = fp.readlines()\n",
    "\n",
    "instructions = []\n",
    "for line in lines:\n",
    "    op = line.split()[0]\n",
    "    num = int(line.split()[1])\n",
    "    instructions.append([op, num])\n",
    "acc = 0\n",
    "visited = []\n",
    "current = 0\n",
    "while True:\n",
    "    if current in visited:\n",
    "        break\n",
    "    visited.append(current)\n",
    "    op = instructions[current]\n",
    "    if op[0] == \"acc\":\n",
    "        acc += op[1]\n",
    "        current += 1\n",
    "        continue\n",
    "    if op[0] == \"nop\":\n",
    "        current += 1\n",
    "        continue\n",
    "    if op[0] == \"jmp\":\n",
    "        current += op[1]\n",
    "        continue\n",
    "print(acc)\n",
    "# Brute force it\n",
    "# We already know visited\n",
    "import copy\n",
    "wrong_visited = copy.copy(visited)\n",
    "mod = -1\n",
    "while True:\n",
    "    instructions_new = copy.copy(instructions)\n",
    "    # change next instruction from back (skipping acc)\n",
    "    while True:\n",
    "        if instructions[wrong_visited[mod]][0] == \"nop\":\n",
    "            instructions_new[wrong_visited[mod]][0] = \"jmp\"\n",
    "            break\n",
    "        if instructions[wrong_visited[mod]][0] == \"jmp\":\n",
    "            instructions_new[wrong_visited[mod]][0] = \"nop\"\n",
    "            break\n",
    "        mod -= 1\n",
    "    mod -= 1\n",
    "    # And test this for success\n",
    "    acc = 0\n",
    "    visited = []\n",
    "    current = 0\n",
    "    success = False\n",
    "    while True:\n",
    "        if current >= len(instructions_new):\n",
    "            success = True\n",
    "            break\n",
    "        if current in visited:\n",
    "            break\n",
    "        visited.append(current)\n",
    "        op = instructions_new[current]\n",
    "        if op[0] == \"acc\":\n",
    "            acc += op[1]\n",
    "            current += 1\n",
    "            continue\n",
    "        if op[0] == \"nop\":\n",
    "            current += 1\n",
    "            continue\n",
    "        if op[0] == \"jmp\":\n",
    "            current += op[1]\n",
    "            continue\n",
    "    if success:\n",
    "        break\n",
    "print(acc)"
   ]
  },
  {
   "cell_type": "code",
   "execution_count": null,
   "metadata": {},
   "outputs": [],
   "source": [
    "# Day 7\n",
    "with open(\"input7\", \"r\") as fp:\n",
    "    lines = fp.readlines()\n",
    "bags = {}\n",
    "for line in lines:\n",
    "    line = line.replace(\"bags\", \"\").replace(\"bag\", \"\").replace(\".\",\"\")\n",
    "    parts = line.split(\"contain\")\n",
    "    color = parts[0].strip()\n",
    "    bags[color] = {}\n",
    "    in_parts = parts[1].split(\",\")\n",
    "    for part in in_parts:\n",
    "        part = part.strip()\n",
    "        if part == \"no other\":\n",
    "            continue\n",
    "        number = int(part.split()[0].strip())\n",
    "        name = \" \".join(part.split()[1:]).strip()\n",
    "        bags[color][name] = number\n",
    "def find_color(color):\n",
    "    result = []\n",
    "    for bag, in_bag in bags.items():\n",
    "        if color in in_bag:\n",
    "            result.append(bag)\n",
    "            result.extend(find_color(bag))\n",
    "    return result\n",
    "print(len(np.unique(abc)))\n",
    "def find_num(color):\n",
    "    result = 1\n",
    "    for bag, num in bags[color].items():\n",
    "        result += find_num(bag)*num\n",
    "    return result\n",
    "print(find_num(\"shiny gold\")-1)"
   ]
  },
  {
   "cell_type": "code",
   "execution_count": null,
   "metadata": {},
   "outputs": [],
   "source": [
    "# Day 6\n",
    "with open(\"input6\", \"r\") as fp:\n",
    "    lines = fp.readlines()\n",
    "all_groups = []\n",
    "current = []\n",
    "for line in lines:\n",
    "    if line.strip() == \"\":\n",
    "        all_groups.append(current)\n",
    "        current = []\n",
    "    else:\n",
    "        current.append(line.strip())\n",
    "all_groups.append(current)\n",
    "all_strings = [\"\".join(a) for a in all_groups]\n",
    "all_unique = [len(np.unique(list(a))) for a in all_strings]\n",
    "print(np.sum(all_unique))\n",
    "all_every = []\n",
    "for g in all_groups:\n",
    "    if len(g) == 0:\n",
    "        continue\n",
    "    a = set(list(g[0]))\n",
    "    if len(g) > 1:\n",
    "        for b in g[1:]:\n",
    "            a = a.intersection(set(list(b)))\n",
    "    all_every.append(len(a))\n",
    "print(np.sum(all_every))"
   ]
  },
  {
   "cell_type": "code",
   "execution_count": 5,
   "metadata": {},
   "outputs": [
    {
     "output_type": "stream",
     "name": "stdout",
     "text": [
      "906\n519\n"
     ]
    }
   ],
   "source": [
    "# Day 5\n",
    "with open(\"input5\", \"r\") as fp:\n",
    "    lines = fp.readlines()\n",
    "seat_nr = []\n",
    "for line in lines:\n",
    "    row = line[:7].replace(\"B\",\"1\").replace(\"F\", \"0\")\n",
    "    col = line[7:10].replace(\"R\",\"1\").replace(\"L\", \"0\")\n",
    "    row = int(row, base=2)\n",
    "    col = int(col, base=2)\n",
    "    id = row*8+col\n",
    "    seat_nr.append([row, col, id])\n",
    "print(np.max(np.array(seat_nr)[:,2]))\n",
    "ids = [s[2] for s in seat_nr]\n",
    "ids.sort()\n",
    "diff = np.argmax(np.diff(ids))\n",
    "print(np.sum(ids[diff:diff+2])//2)"
   ]
  },
  {
   "cell_type": "code",
   "execution_count": null,
   "metadata": {},
   "outputs": [],
   "source": []
  }
 ]
}