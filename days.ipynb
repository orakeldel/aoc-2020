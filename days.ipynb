{
 "metadata": {
  "language_info": {
   "codemirror_mode": {
    "name": "ipython",
    "version": 3
   },
   "file_extension": ".py",
   "mimetype": "text/x-python",
   "name": "python",
   "nbconvert_exporter": "python",
   "pygments_lexer": "ipython3",
   "version": "3.8.6-final"
  },
  "orig_nbformat": 2,
  "kernelspec": {
   "name": "python3",
   "display_name": "Python 3"
  }
 },
 "nbformat": 4,
 "nbformat_minor": 2,
 "cells": [
  {
   "cell_type": "code",
   "execution_count": null,
   "metadata": {},
   "outputs": [],
   "source": [
    "import numpy as np"
   ]
  },
  {
   "cell_type": "code",
   "execution_count": null,
   "metadata": {},
   "outputs": [],
   "source": [
    "# Day 6\n",
    "with open(\"input6\", \"r\") as fp:\n",
    "    lines = fp.readlines()\n",
    "all_groups = []\n",
    "current = []\n",
    "for line in lines:\n",
    "    if line.strip() == \"\":\n",
    "        all_groups.append(current)\n",
    "        current = []\n",
    "    else:\n",
    "        current.append(line.strip())\n",
    "all_groups.append(current)\n",
    "all_strings = [\"\".join(a) for a in all_groups]\n",
    "all_unique = [len(np.unique(list(a))) for a in all_strings]\n",
    "print(np.sum(all_unique))\n",
    "all_every = []\n",
    "for g in all_groups:\n",
    "    if len(g) == 0:\n",
    "        continue\n",
    "    a = set(list(g[0]))\n",
    "    if len(g) > 1:\n",
    "        for b in g[1:]:\n",
    "            a = a.intersection(set(list(b)))\n",
    "    all_every.append(len(a))\n",
    "print(np.sum(all_every))"
   ]
  },
  {
   "cell_type": "code",
   "execution_count": null,
   "metadata": {},
   "outputs": [],
   "source": [
    "# Day 5\n",
    "with open(\"input5\", \"r\") as fp:\n",
    "    lines = fp.readlines()\n",
    "seat_nr = []\n",
    "for line in lines:\n",
    "    row = line[:7].replace(\"B\",\"1\").replace(\"F\", \"0\")\n",
    "    col = line[7:10].replace(\"R\",\"1\").replace(\"L\", \"0\")\n",
    "    row = int(row, base=2)\n",
    "    col = int(col, base=2)\n",
    "    id = row*8+col\n",
    "    seat_nr.append([row, col, id])\n",
    "print(np.max(np.array(seat_nr)[:,2]))\n",
    "ids = [s[2] for s in seat_nr]\n",
    "ids.sort()\n",
    "np.argmax(np.diff(ids))\n",
    "print(ids[463:465])"
   ]
  }
 ]
}