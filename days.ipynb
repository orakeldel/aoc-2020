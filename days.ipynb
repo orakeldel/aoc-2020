{
 "metadata": {
  "language_info": {
   "codemirror_mode": {
    "name": "ipython",
    "version": 3
   },
   "file_extension": ".py",
   "mimetype": "text/x-python",
   "name": "python",
   "nbconvert_exporter": "python",
   "pygments_lexer": "ipython3",
   "version": "3.8.6-final"
  },
  "orig_nbformat": 2,
  "kernelspec": {
   "name": "python3",
   "display_name": "Python 3"
  }
 },
 "nbformat": 4,
 "nbformat_minor": 2,
 "cells": [
  {
   "cell_type": "code",
   "execution_count": 1,
   "metadata": {},
   "outputs": [],
   "source": [
    "import numpy as np"
   ]
  },
  {
   "cell_type": "code",
   "execution_count": null,
   "metadata": {},
   "outputs": [],
   "source": [
    "# Day 7\n",
    "with open(\"input7\", \"r\") as fp:\n",
    "    lines = fp.readlines()\n",
    "bags = {}\n",
    "for line in lines:\n",
    "    line = line.replace(\"bags\", \"\").replace(\"bag\", \"\").replace(\".\",\"\")\n",
    "    parts = line.split(\"contain\")\n",
    "    color = parts[0].strip()\n",
    "    bags[color] = {}\n",
    "    in_parts = parts[1].split(\",\")\n",
    "    for part in in_parts:\n",
    "        part = part.strip()\n",
    "        if part == \"no other\":\n",
    "            continue\n",
    "        number = int(part.split()[0].strip())\n",
    "        name = \" \".join(part.split()[1:]).strip()\n",
    "        bags[color][name] = number\n",
    "def find_color(color):\n",
    "    result = []\n",
    "    for bag, in_bag in bags.items():\n",
    "        if color in in_bag:\n",
    "            result.append(bag)\n",
    "            result.extend(find_color(bag))\n",
    "    return result\n",
    "print(len(np.unique(abc)))\n",
    "def find_num(color):\n",
    "    result = 1\n",
    "    for bag, num in bags[color].items():\n",
    "        result += find_num(bag)*num\n",
    "    return result\n",
    "print(find_num(\"shiny gold\")-1)"
   ]
  },
  {
   "cell_type": "code",
   "execution_count": null,
   "metadata": {},
   "outputs": [],
   "source": [
    "# Day 6\n",
    "with open(\"input6\", \"r\") as fp:\n",
    "    lines = fp.readlines()\n",
    "all_groups = []\n",
    "current = []\n",
    "for line in lines:\n",
    "    if line.strip() == \"\":\n",
    "        all_groups.append(current)\n",
    "        current = []\n",
    "    else:\n",
    "        current.append(line.strip())\n",
    "all_groups.append(current)\n",
    "all_strings = [\"\".join(a) for a in all_groups]\n",
    "all_unique = [len(np.unique(list(a))) for a in all_strings]\n",
    "print(np.sum(all_unique))\n",
    "all_every = []\n",
    "for g in all_groups:\n",
    "    if len(g) == 0:\n",
    "        continue\n",
    "    a = set(list(g[0]))\n",
    "    if len(g) > 1:\n",
    "        for b in g[1:]:\n",
    "            a = a.intersection(set(list(b)))\n",
    "    all_every.append(len(a))\n",
    "print(np.sum(all_every))"
   ]
  },
  {
   "cell_type": "code",
   "execution_count": 5,
   "metadata": {},
   "outputs": [
    {
     "output_type": "stream",
     "name": "stdout",
     "text": [
      "906\n519\n"
     ]
    }
   ],
   "source": [
    "# Day 5\n",
    "with open(\"input5\", \"r\") as fp:\n",
    "    lines = fp.readlines()\n",
    "seat_nr = []\n",
    "for line in lines:\n",
    "    row = line[:7].replace(\"B\",\"1\").replace(\"F\", \"0\")\n",
    "    col = line[7:10].replace(\"R\",\"1\").replace(\"L\", \"0\")\n",
    "    row = int(row, base=2)\n",
    "    col = int(col, base=2)\n",
    "    id = row*8+col\n",
    "    seat_nr.append([row, col, id])\n",
    "print(np.max(np.array(seat_nr)[:,2]))\n",
    "ids = [s[2] for s in seat_nr]\n",
    "ids.sort()\n",
    "diff = np.argmax(np.diff(ids))\n",
    "print(np.sum(ids[diff:diff+2])//2)"
   ]
  },
  {
   "cell_type": "code",
   "execution_count": null,
   "metadata": {},
   "outputs": [],
   "source": []
  }
 ]
}